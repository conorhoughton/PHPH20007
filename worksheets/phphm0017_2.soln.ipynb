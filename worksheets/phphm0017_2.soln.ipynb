{
  "nbformat": 4,
  "nbformat_minor": 0,
  "metadata": {
    "colab": {
      "provenance": []
    },
    "kernelspec": {
      "name": "python3",
      "display_name": "Python 3"
    },
    "language_info": {
      "name": "python"
    }
  },
  "cells": [
    {
      "cell_type": "markdown",
      "source": [
        "In this next part of the worksheet we are going to look at modelling synapses. In our simple model of a synapse the conductance of the synapse is $g_s=\\bar{g}_s s$ where $s$ satisfies $\\tau_s ds/dt=-s$ and $s\\leftarrow s+P$ whenever a spike arrives. Before we look at a network of neurons lets consider spikes arriving randomly at the synapse.\n",
        "\n",
        "The most common way to model spikes arriving is to use a Poisson process, in a Poisson process the gaps between spikes are drawn from an exponential distribution."
      ],
      "metadata": {
        "id": "VLdra8Mm_WXR"
      }
    },
    {
      "cell_type": "code",
      "source": [
        "import numpy as np\n",
        "import matplotlib.pyplot as plt\n",
        "\n",
        "def dsdt(s,tau_s):\n",
        "  return -s/tau_s\n",
        "\n",
        "tau_s=20\n",
        "\n",
        "p=0.5\n",
        "\n",
        "isi = 10.0\n",
        "\n",
        "next_spike = np.random.exponential(scale=isi)\n",
        "\n",
        "t_start=0.0\n",
        "t_end=100.0\n",
        "n_points=1000\n",
        "delta=(t_end-t_start)/n_points\n",
        "\n",
        "t=np.linspace(t_start,t_end,n_points)\n",
        "s0 = 0.0\n",
        "s=np.full_like(t, s0)\n",
        "\n",
        "\n",
        "for t_index in range(1,n_points):\n",
        "  s[t_index]=s[t_index-1]+delta*dsdt(s[t_index-1],tau_s)\n",
        "  if t[t_index]>next_spike:\n",
        "    s[t_index]+=p\n",
        "    next_spike+=np.random.exponential(scale=isi)\n",
        "\n",
        "plt.figure(figsize=(6, 4))\n",
        "plt.plot(t, s)\n",
        "plt.xlabel('t')\n",
        "plt.ylabel('s')\n",
        "plt.grid(True)\n",
        "plt.show()"
      ],
      "metadata": {
        "id": "w-D6yySv_0rb"
      },
      "execution_count": null,
      "outputs": []
    },
    {
      "cell_type": "markdown",
      "source": [
        "Lets add the synaptic input to a neuron. The synaptic current is $g(E_s-v)$ where the value of the reversal potential $E_s$ depends on what sort of synapse it is, lets consider an excitatory synapse with $E_s=20$ mv; lets give our usual neuron a synaptic input, the equation will be $$\\tau_m \\frac{dv}{dt}=E_l+R_mI_e-v+R_m g(E_s-v)$$ where the $R_m$ by the $g$ is because we divided across by $g_l$, same as why there is an $R_m$ multiplying the $I_e$. Remember in addition that $$\\tau_s \\frac{ds}{dt}=-s$$ and that $g_s=\\bar{g}_s s$. Lets set $p=0.5$ and $\\tau_s=20$ ms as above and put $R_m\\bar{g}_s=20$ mV and $R_mI_e=0$ mV. As above put the average time between in coming spikes as 10 ms.\n"
      ],
      "metadata": {
        "id": "uZpN3T71Ian_"
      }
    },
    {
      "cell_type": "code",
      "source": [
        "import numpy as np\n",
        "import matplotlib.pyplot as plt\n",
        "\n",
        "el = -70  # mV, resting potential\n",
        "vt = -55  # mV, threshold voltage\n",
        "tau = 10  # ms, membrane time constant\n",
        "es = 20 #mV, synaptic reversal potential\n",
        "\n",
        "ri = 0.0 #mV, input current\n",
        "rg = 0.5 # rg is the synaptic strength, it is a ratio\n",
        "\n",
        "t_start=0.0\n",
        "t_end=100.0\n",
        "n_points=1000\n",
        "delta=(t_end-t_start)/n_points\n",
        "\n",
        "\n",
        "v0 = el\n",
        "v=np.full_like(t, v0)\n",
        "\n",
        "s0 = 0.0\n",
        "s=np.full_like(t, s0)\n",
        "\n",
        "def dvdt(v, s,rg,ri,es,el,tau):\n",
        "    return (el+ri-v+rg*s*(es-v))/tau\n",
        "\n",
        "def dsdt(s,tau_s):\n",
        "  return -s/tau_s\n",
        "\n",
        "\n",
        "isi = 10.0\n",
        "\n",
        "next_spike = np.random.exponential(scale=isi)\n",
        "\n",
        "\n",
        "for t_index in range(1,n_points):\n",
        "  s[t_index]=s[t_index-1]+delta*dsdt(s[t_index-1],tau_s)\n",
        "  v[t_index]=v[t_index-1]+delta*dvdt(v[t_index-1],s[t_index-1],rg,ri,es,el,tau)\n",
        "  if v[t_index]>vt:\n",
        "    v[t_index]=v0\n",
        "  if t[t_index]>next_spike:\n",
        "    s[t_index]+=p\n",
        "    next_spike+=np.random.exponential(scale=isi)\n",
        "\n",
        "\n",
        "\n",
        "#again don't worry too much about this\n",
        "#it is code to display the s and v graphs as subplots\n",
        "\n",
        "fig, axs = plt.subplots(2, 1, figsize=(6, 5))\n",
        "\n",
        "# Plotting v vs t on the first panel\n",
        "axs[0].plot(t, v)\n",
        "axs[0].set_xlabel('t')\n",
        "axs[0].set_ylabel('v')\n",
        "axs[0].grid(True)\n",
        "\n",
        "# Plotting s vs t on the second panel\n",
        "axs[1].plot(t, s)\n",
        "axs[1].set_xlabel('t')\n",
        "axs[1].set_ylabel('s')\n",
        "axs[1].grid(True)\n",
        "\n",
        "plt.tight_layout()  # Adjusts subplot params so that subplots fit into the figure area.\n",
        "plt.show()\n",
        "\n",
        "\n"
      ],
      "metadata": {
        "id": "lA7FyYYijz-o"
      },
      "execution_count": null,
      "outputs": []
    },
    {
      "cell_type": "markdown",
      "source": [
        "Now lets try an inhibatory synapse, so the reversal potential $E_s=E_l$ and this time we will need some input current or else the neuron will never do anything, so, for example, $R_mI_e=30$ mV."
      ],
      "metadata": {
        "id": "03FRTE7SPOV0"
      }
    },
    {
      "cell_type": "code",
      "source": [
        "el = -70  # mV, resting potential\n",
        "vt = -55  # mV, threshold voltage\n",
        "tau = 10  # ms, membrane time constant\n",
        "es = #TODO\n",
        "\n",
        "ri = #TODO\n",
        "rg = 0.5 # rg is the synaptic strength, it is a ratio\n",
        "\n",
        "t_start=0.0\n",
        "t_end=100.0\n",
        "n_points=1000\n",
        "delta=(t_end-t_start)/n_points\n",
        "\n",
        "\n",
        "v0 = el\n",
        "v=np.full_like(t, v0)\n",
        "\n",
        "s0 = 0.0\n",
        "s=np.full_like(t, s0)\n",
        "\n",
        "def dvdt(v, s,rg,ri,es,el,tau):\n",
        "    return (el+ri-v+rg*s*(es-v))/tau\n",
        "\n",
        "def dsdt(s,tau_s):\n",
        "  return -s/tau_s\n",
        "\n",
        "\n",
        "isi = 10.0\n",
        "\n",
        "next_spike = np.random.exponential(scale=isi)\n",
        "\n",
        "\n",
        "for t_index in range(1,n_points):\n",
        "  s[t_index]=s[t_index-1]+delta*dsdt(s[t_index-1],tau_s)\n",
        "  v[t_index]=v[t_index-1]+delta*dvdt(v[t_index-1],s[t_index-1],rg,ri,es,el,tau)\n",
        "  if v[t_index]>vt:\n",
        "    v[t_index]=v0\n",
        "  if t[t_index]>next_spike:\n",
        "    s[t_index]+=p\n",
        "    next_spike+=np.random.exponential(scale=isi)\n",
        "\n",
        "\n",
        "\n",
        "#again don't worry too much about this\n",
        "#it is code to display the s and v graphs as subplots\n",
        "\n",
        "fig, axs = plt.subplots(2, 1, figsize=(6, 5))\n",
        "\n",
        "# Plotting v vs t on the first panel\n",
        "axs[0].plot(t, v)\n",
        "axs[0].set_xlabel('t')\n",
        "axs[0].set_ylabel('v')\n",
        "axs[0].grid(True)\n",
        "\n",
        "# Plotting s vs t on the second panel\n",
        "axs[1].plot(t, s)\n",
        "axs[1].set_xlabel('t')\n",
        "axs[1].set_ylabel('s')\n",
        "axs[1].grid(True)\n",
        "\n",
        "plt.tight_layout()  # Adjusts subplot params so that subplots fit into the figure area.\n",
        "plt.show()\n"
      ],
      "metadata": {
        "id": "w8_UvQG4PgGS"
      },
      "execution_count": null,
      "outputs": []
    },
    {
      "cell_type": "markdown",
      "source": [
        "Finally, lets do something much more difficult, lets couple two neurons together, so each has a synapse on the other. This means there will be two voltages, one for neuron one and one for neuron two and two synapse currents, one for the synapse from neuron one to neuron two and one for the synapse from neuron two to neuron one."
      ],
      "metadata": {
        "id": "Ovmmh9JYPxK-"
      }
    },
    {
      "cell_type": "markdown",
      "source": [
        "Here are some parameters, for both neurons let $\\tau_m=20$ ms, $E_l=-70$ mV but $V_R=-80$ mV, so this is a bit of change, the neuron is resetting to a lower value than the leak reversal potential, $V_T=-54$ mV, $R_mI_e=18$ mV and $R_m\\bar{g}_s=0.15$ and, finally, $p=0.5$ as before. The values should all start off randomly, so $v_1$ and $v_2$ should both be taken uniformly between $V_R$ and $V_T$ and $s_{12}$ and $s_{21}$, the variables for the two synapses should start between zero and one."
      ],
      "metadata": {
        "id": "bJFW1o_NQbUi"
      }
    },
    {
      "cell_type": "markdown",
      "source": [
        "So, the equation for the first neuron will be\n",
        "$$\\tau_s \\frac{dv_1}{dt}=E_l-V+R_mI_e + R_m\\bar{g}_s s_{21}(E_s-v_1)$$\n",
        "and if this neuron spikes $s_{12}\\leftarrow s_{12}+p$, the $s_{21}$ in the $v_1$ equation is the synapse *from* neuron two, so it increases by $p$ is neuron two spikes!"
      ],
      "metadata": {
        "id": "C_L2PZg-RDzv"
      }
    },
    {
      "cell_type": "markdown",
      "source": [
        "Finally, we are going to look at two cases, one where both synapses are excitatory and $E_s=0$ mV and the other where they are inhibatory and $E_s=-80$ mV. Here it is for inhibatory:"
      ],
      "metadata": {
        "id": "NpvRYb5kRp5Z"
      }
    },
    {
      "cell_type": "code",
      "source": [
        "import random\n",
        "\n",
        "el = -70  # mV, resting potential\n",
        "vr = -80 # mV, reset\n",
        "vt = -54  # mV, threshold voltage\n",
        "tau = 10  # ms, membrane time constant\n",
        "es = -80.0 #mV, synapse reversal potential\n",
        "\n",
        "ri = 18\n",
        "rg = 0.15 # rg is the synaptic strength, it is a ratio\n",
        "\n",
        "t_start=0.0\n",
        "t_end=500.0\n",
        "n_points=1000\n",
        "delta=(t_end-t_start)/n_points\n",
        "\n",
        "\n",
        "v0 = random.uniform(vr,vt)\n",
        "v1=np.full_like(t, v0)\n",
        "v0 = random.uniform(vr,vt)\n",
        "v2=np.full_like(t, v0)\n",
        "\n",
        "s0 = random.uniform(0.0,1.0)\n",
        "s12=np.full_like(t, s0)\n",
        "s0 = random.uniform(0.0,1.0)\n",
        "s21=np.full_like(t, s0)\n",
        "\n",
        "def dvdt(v, s,rg,ri,es,el,tau):\n",
        "    return (el+ri-v+rg*s*(es-v))/tau\n",
        "\n",
        "def dsdt(s,tau_s):\n",
        "  return -s/tau_s\n",
        "\n",
        "for t_index in range(1,n_points):\n",
        "  s12[t_index]=s12[t_index-1]+delta*dsdt(s12[t_index-1],tau_s)\n",
        "  s21[t_index]=s21[t_index-1]+delta*dsdt(s21[t_index-1],tau_s)\n",
        "  v1[t_index]=v1[t_index-1]+delta*dvdt(v1[t_index-1],s21[t_index-1],rg,ri,es,el,tau)\n",
        "  v2[t_index]=v2[t_index-1]+delta*dvdt(v2[t_index-1],s12[t_index-1],rg,ri,es,el,tau)\n",
        "\n",
        "  if v1[t_index]>vt:\n",
        "    v1[t_index]=vr\n",
        "    s12[t_index]+=p\n",
        "\n",
        "  if v2[t_index]>vt:\n",
        "    v2[t_index]=vr\n",
        "    s21[t_index]+=p\n",
        "\n",
        "fig, axs = plt.subplots(2, 1, figsize=(6, 5))\n",
        "\n",
        "# Plotting v vs t on the first panel\n",
        "axs[0].plot(t, v1)\n",
        "axs[0].plot(t, v2)\n",
        "axs[0].set_xlabel('t')\n",
        "axs[0].set_ylabel('v')\n",
        "axs[0].grid(True)\n",
        "\n",
        "# Plotting s vs t on the second panel\n",
        "axs[1].plot(t, s12)\n",
        "axs[1].plot(t, s21)\n",
        "axs[1].set_xlabel('t')\n",
        "axs[1].set_ylabel('s')\n",
        "axs[1].grid(True)\n",
        "\n",
        "plt.tight_layout()  # Adjusts subplot params so that subplots fit into the figure area.\n",
        "plt.show()\n",
        "\n",
        "\n"
      ],
      "metadata": {
        "id": "sxZFJy90RGdN"
      },
      "execution_count": null,
      "outputs": []
    },
    {
      "cell_type": "markdown",
      "source": [
        "What happens when the synapses are excitatory?"
      ],
      "metadata": {
        "id": "tddOT5_6U9Gx"
      }
    }
  ]
}