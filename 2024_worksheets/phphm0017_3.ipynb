{
  "nbformat": 4,
  "nbformat_minor": 0,
  "metadata": {
    "colab": {
      "provenance": []
    },
    "kernelspec": {
      "name": "python3",
      "display_name": "Python 3"
    },
    "language_info": {
      "name": "python"
    }
  },
  "cells": [
    {
      "cell_type": "markdown",
      "source": [
        "We are going to consider a version of the well known Wilson-Cowan model, this particularly simple version, it can get very complicated, is taken from\n",
        "\n",
        "Angela C. E. Onslow, Matthew W. Jones, Rafal Bogacz (2014) *A Canonical Circuit for Generating Phase-Amplitude Coupling*. PLoS One 9:e102591"
      ],
      "metadata": {
        "id": "iIL8ibTfv3aL"
      }
    },
    {
      "cell_type": "markdown",
      "source": [
        "Lets consider a cicuit containing a population of pyramidal neurons\n",
        "$$\\tau_E\\frac{dE}{dt}=-E+f(\\theta_{EE}+w_{EE}E-w_{IE}I)$$\n",
        "and a population of inhibatory interneurons\n",
        "$$\\tau_I\\frac{dI}{dt}=-I+f(\\theta_{I}+w_{EI}E)$$\n",
        "Here $\\theta_E$ and $\\theta_I$ are external inputs to the two populations, there $w$'s are the couplings and the $f(\\theta)$ is the response function:\n",
        "$$f(\\theta)=\\frac{1}{1+\\exp{[-\\beta(\\theta-1})]}$$\n",
        "Here you can think of $E$ and $I$ as some sort of activity level for the neurons while $f(\\theta) converts that into some measure of the affect the neurons have on each other, this might correspond to firing rate, but we are going to be careful to not make this too exact!"
      ],
      "metadata": {
        "id": "yjrWDJ-jtzdO"
      }
    },
    {
      "cell_type": "markdown",
      "source": [
        "In what follows we will use the parameters from the paper, in particular this will have $\\beta=4$. Lets plot it to see what it looks like."
      ],
      "metadata": {
        "id": "lf3X8F_wvzY7"
      }
    },
    {
      "cell_type": "code",
      "source": [
        "from scipy.integrate import odeint\n",
        "import numpy as np\n",
        "import matplotlib.pyplot as plt\n",
        "\n",
        "def f(theta,beta):\n",
        "    return 1/(1+np.exp(-beta*(theta-1)))\n",
        "\n",
        "beta=4.0\n",
        "\n",
        "theta0=-1.0\n",
        "theta1= 3.0\n",
        "n_points=200\n",
        "\n",
        "t=np.linspace(theta0,theta1,n_points)\n",
        "f_values=f(t,beta)\n",
        "\n",
        "print(f(0,beta))\n",
        "\n",
        "\n",
        "plt.figure(figsize=(6, 4))\n",
        "plt.plot(t, f_values)\n",
        "plt.xlabel('t')\n",
        "plt.ylabel('f')\n",
        "plt.grid(True)\n",
        "plt.show()"
      ],
      "metadata": {
        "id": "rq36_L9bwh9c"
      },
      "execution_count": null,
      "outputs": []
    },
    {
      "cell_type": "markdown",
      "source": [
        "You will notice that when $\\theta=0$ the curve isn't zero, $f(0)\\approx 0.018$ when you'd think that when a population of neurons have zero activity it will have no affect on any other neurons. In fact, other versions of this model go to some trouble to make sure this follows, in this paper the authors have chosen not to worry about this complication since 0.018 is so small it won't make much difference."
      ],
      "metadata": {
        "id": "auDpVzoCxkFb"
      }
    },
    {
      "cell_type": "markdown",
      "source": [
        "Here are the other parameter values: $\\theta_E=0.5$ whereas $\\theta_I=0.0$; $w_{EE} = 2.4$, $w_{EI} =w_{IE}=2.0$ and $\\tau_E = \\tau_I = 0.0032$ s. Lets do a simulation."
      ],
      "metadata": {
        "id": "SwNAvmAVyJKg"
      }
    },
    {
      "cell_type": "code",
      "source": [
        "def f(theta,beta):\n",
        "    return 1/(1+np.exp(-beta*(theta-1)))\n",
        "\n",
        "def dadt(a,tau,beta,input):\n",
        "  return (-a+f(input,beta))/tau\n",
        "\n",
        "beta=4.0\n",
        "\n",
        "tau_E=0.0032\n",
        "tau_I=0.0032\n",
        "\n",
        "w_EE=2.4\n",
        "w_IE=2.0\n",
        "w_EI=2.0\n",
        "\n",
        "theta_E=0.5\n",
        "theta_I=0.0\n",
        "\n",
        "t0=0\n",
        "t1=0.5\n",
        "n_points=1000\n",
        "\n",
        "t=np.linspace(t0,t1,n_points)\n",
        "delta=(t1-t0)/n_points\n",
        "\n",
        "\n",
        "e=np.full_like(t, 0.5)\n",
        "h=np.full_like(t, 0.0)\n",
        "#avoid using \"i\" as a variable, since we often use i for an index\n",
        "#it is easy to make a mistake, it is common to use h in this situation\n",
        "#I imagine for iHibatory.\n",
        "\n",
        "for t_index in range(1,n_points):\n",
        "  e_input=theta_E+w_EE*e[t_index-1]-w_IE*h[t_index-1]\n",
        "  e[t_index]=e[t_index-1]+delta*dadt(e[t_index-1],tau_E,beta,e_input)\n",
        "  h_input=theta_I+w_EI*e[t_index-1]\n",
        "  h[t_index]=h[t_index-1]+delta*dadt(h[t_index-1],tau_I,beta,h_input)\n",
        "\n",
        "\n",
        "plt.figure(figsize=(6, 4))\n",
        "plt.plot(t, e,label=r\"$e$\")\n",
        "plt.plot(t, h,label=r\"$h$\")\n",
        "plt.xlabel('t')\n",
        "plt.ylabel('a')\n",
        "plt.grid(True)\n",
        "plt.show()"
      ],
      "metadata": {
        "id": "DaHa1q9pyuoj"
      },
      "execution_count": null,
      "outputs": []
    },
    {
      "cell_type": "markdown",
      "source": [
        "This circuit only oscillates for some values of $\\theta_E$, if the input is too strong, or not strong enough, it doesn't oscillate. Lets check on that, so first lets run the circuit, give it a little while to settle down and then find the minimum and maximum values."
      ],
      "metadata": {
        "id": "6bD4uWTx33Ur"
      }
    },
    {
      "cell_type": "code",
      "source": [
        "def f(theta,beta):\n",
        "    return 1/(1+np.exp(-beta*(theta-1)))\n",
        "\n",
        "def dadt(a,tau,beta,input):\n",
        "  return (-a+f(input,beta))/tau\n",
        "\n",
        "beta=4.0\n",
        "\n",
        "tau_E=0.0032\n",
        "tau_I=0.0032\n",
        "\n",
        "w_EE=2.4\n",
        "w_IE=2.0\n",
        "w_EI=2.0\n",
        "\n",
        "theta_E=0.5\n",
        "theta_I=0.0\n",
        "\n",
        "t0=0\n",
        "t1=0.5\n",
        "n_points1=500\n",
        "n_points =1000\n",
        "\n",
        "t=np.linspace(t0,t1,n_points)\n",
        "delta=(t1-t0)/n_points\n",
        "\n",
        "\n",
        "e=np.full_like(t, 0.5)\n",
        "h=np.full_like(t, 0.0)\n",
        "\n",
        "for t_index in range(1,n_points):\n",
        "  e_input=theta_E+w_EE*e[t_index-1]-w_IE*h[t_index-1]\n",
        "  e[t_index]=e[t_index-1]+delta*dadt(e[t_index-1],tau_E,beta,e_input)\n",
        "  h_input=theta_I+w_EI*e[t_index-1]\n",
        "  h[t_index]=h[t_index-1]+delta*dadt(h[t_index-1],tau_I,beta,h_input)\n",
        "\n",
        "e_max=max(e[n_points1:])\n",
        "e_min=min(e[n_points1:])\n",
        "\n",
        "print(e_max,e_min)\n"
      ],
      "metadata": {
        "id": "8iWv_4Te4S-5"
      },
      "execution_count": null,
      "outputs": []
    },
    {
      "cell_type": "markdown",
      "source": [
        "So lets plot the minimum and maximum values as a function of $\\theta_E$; if they are the same there is no oscillation."
      ],
      "metadata": {
        "id": "EE9cXG_M7KkT"
      }
    },
    {
      "cell_type": "code",
      "source": [
        "def f(theta,beta):\n",
        "    return 1/(1+np.exp(-beta*(theta-1)))\n",
        "\n",
        "def dadt(a,tau,beta,input):\n",
        "  return (-a+f(input,beta))/tau\n",
        "\n",
        "beta=4.0\n",
        "\n",
        "tau_E=0.0032\n",
        "tau_I=0.0032\n",
        "\n",
        "w_EE=2.4\n",
        "w_IE=2.0\n",
        "w_EI=2.0\n",
        "\n",
        "theta_points=100\n",
        "theta0=0.0\n",
        "theta1=2.0\n",
        "theta_E_values=np.linspace(theta0,theta1,theta_points)\n",
        "theta_I=0.0\n",
        "\n",
        "t0=0\n",
        "t1=0.5\n",
        "n_points1=500\n",
        "n_points =1000\n",
        "\n",
        "t=np.linspace(t0,t1,n_points)\n",
        "delta=(t1-t0)/n_points\n",
        "\n",
        "e_max=[]\n",
        "e_min=[]\n",
        "\n",
        "for theta_E in theta_E_values:\n",
        "  e=np.full_like(t, 0.5)\n",
        "  h=np.full_like(t, 0.0)\n",
        "\n",
        "  for t_index in range(1,n_points):\n",
        "    e_input=theta_E+w_EE*e[t_index-1]-w_IE*h[t_index-1]\n",
        "    e[t_index]=e[t_index-1]+delta*dadt(e[t_index-1],tau_E,beta,e_input)\n",
        "    h_input=theta_I+w_EI*e[t_index-1]\n",
        "    h[t_index]=h[t_index-1]+delta*dadt(h[t_index-1],tau_I,beta,h_input)\n",
        "\n",
        "  e_max.append(max(e[n_points1:]))\n",
        "  e_min.append(min(e[n_points1:]))\n",
        "\n",
        "plt.figure(figsize=(6, 4))\n",
        "def f(theta,beta):\n",
        "    return 1/(1+np.exp(-beta*(theta-1)))\n",
        "\n",
        "def dadt(a,tau,beta,input):\n",
        "  return (-a+f(input,beta))/tau\n",
        "\n",
        "beta=4.0\n",
        "\n",
        "tau_E=0.0032\n",
        "tau_I=0.0032\n",
        "\n",
        "w_EE=2.4\n",
        "w_IE=2.0\n",
        "w_EI=2.0\n",
        "\n",
        "theta_points=100\n",
        "theta0=0.0\n",
        "theta1=2.0\n",
        "theta_E_values=np.linspace(theta0,theta1,theta_points)\n",
        "theta_I=0.0\n",
        "\n",
        "t0=0\n",
        "t1=0.5\n",
        "n_points1=500\n",
        "n_points =1000\n",
        "\n",
        "t=np.linspace(t0,t1,n_points)\n",
        "delta=(t1-t0)/n_points\n",
        "\n",
        "e_max=[]\n",
        "e_min=[]\n",
        "\n",
        "for theta_E in theta_E_values:\n",
        "  e=np.full_like(t, 0.5)\n",
        "  h=np.full_like(t, 0.0)\n",
        "\n",
        "  for t_index in range(1,n_points):\n",
        "    e_input=theta_E+w_EE*e[t_index-1]-w_IE*h[t_index-1]\n",
        "    e[t_index]=e[t_index-1]+delta*dadt(e[t_index-1],tau_E,beta,e_input)\n",
        "    h_input=theta_I+w_EI*e[t_index-1]\n",
        "    h[t_index]=h[t_index-1]+delta*dadt(h[t_index-1],tau_I,beta,h_input)\n",
        "\n",
        "  e_max.append(max(e[n_points1:]))\n",
        "  e_min.append(min(e[n_points1:]))\n",
        "\n",
        "plt.figure(figsize=(6, 4))\n",
        "plt.plot(theta_E_values, e_max,  color='black')\n",
        "plt.plot(theta_E_values, e_min,  color='black')\n",
        "plt.xlabel(r'$\\theta$')\n",
        "plt.ylabel(r'$e$')\n",
        "plt.grid(True)\n",
        "plt.show()\n",
        "plt.xlabel(r'$\\theta_E$')\n",
        "plt.ylabel(r'$e$')\n",
        "plt.grid(True)\n",
        "plt.show()"
      ],
      "metadata": {
        "id": "5NQLXEKW5bUh"
      },
      "execution_count": null,
      "outputs": []
    },
    {
      "cell_type": "markdown",
      "source": [
        "With $\\theta_E=1.5$ consider what happens for increasing values of $\\theta_I$."
      ],
      "metadata": {
        "id": "aMCYmVU65PEZ"
      }
    },
    {
      "cell_type": "code",
      "source": [
        "def f(theta,beta):\n",
        "    return 1/(1+np.exp(-beta*(theta-1)))\n",
        "\n",
        "def dadt(a,tau,beta,input):\n",
        "  return (-a+f(input,beta))/tau\n",
        "\n",
        "beta=4.0\n",
        "\n",
        "tau_E=0.0032\n",
        "tau_I=0.0032\n",
        "\n",
        "w_EE=2.4\n",
        "w_IE=2.0\n",
        "w_EI=2.0\n",
        "\n",
        "#TO DO\n",
        "\n",
        "t0=0\n",
        "t1=0.5\n",
        "n_points1=500\n",
        "n_points =1000\n",
        "\n",
        "t=np.linspace(t0,t1,n_points)\n",
        "delta=(t1-t0)/n_points\n",
        "\n",
        "e_max=[]\n",
        "e_min=[]\n",
        "\n",
        "for theta_E in theta_E_values: #CHANGE THIS\n",
        "  e=np.full_like(t, 0.5)\n",
        "  h=np.full_like(t, 0.0)\n",
        "\n",
        "  for t_index in range(1,n_points):\n",
        "    e_input=theta_E+w_EE*e[t_index-1]-w_IE*h[t_index-1]\n",
        "    e[t_index]=e[t_index-1]+delta*dadt(e[t_index-1],tau_E,beta,e_input)\n",
        "    h_input=theta_I+w_EI*e[t_index-1]\n",
        "    h[t_index]=h[t_index-1]+delta*dadt(h[t_index-1],tau_I,beta,h_input)\n",
        "\n",
        "  e_max.append(max(e[n_points1:]))\n",
        "  e_min.append(min(e[n_points1:]))\n",
        "\n",
        "#make some changes here\n",
        "plt.figure(figsize=(6, 4))\n",
        "plt.plot(theta_E_values, e_max,  color='black')\n",
        "plt.plot(theta_E_values, e_min,  color='black')\n",
        "plt.xlabel(r'$\\theta_I$')\n",
        "plt.ylabel(r'$e$')\n",
        "plt.grid(True)\n",
        "plt.show()"
      ],
      "metadata": {
        "id": "rhcR_6177cLq"
      },
      "execution_count": null,
      "outputs": []
    },
    {
      "cell_type": "markdown",
      "source": [
        "We are assuming the $I$ story is similar to the $E$ story, you can check this is you want!"
      ],
      "metadata": {
        "id": "IBTQNjoh9PTe"
      }
    }
  ]
}