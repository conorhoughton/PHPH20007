{
 "cells": [
  {
   "cell_type": "markdown",
   "metadata": {
    "id": "27WGJ_K5fhpo"
   },
   "source": [
    "In this **worksheet** we will learn some of Python programming. The tasks in this worksheet are made up and may not look like they have anything to do with neuroscience, that will come; this is a warm up. Most of the code will be supplied to you, but you will be asked to fill in some gaps.\n",
    "\n",
    "----\n"
   ]
  },
  {
   "cell_type": "markdown",
   "metadata": {},
   "source": [
    "Lets start with a simple loop."
   ]
  },
  {
   "cell_type": "code",
   "execution_count": null,
   "metadata": {
    "scrolled": true
   },
   "outputs": [],
   "source": [
    "for i in range(10):\n",
    "    print(i)"
   ]
  },
  {
   "cell_type": "markdown",
   "metadata": {},
   "source": [
    "In this example it should be easy to guess what all the terms do, try changing the range; what would `range(5,10)` do for example, or `range(2, 10, 2)`? Try printing out your name ten times using some like `print(\"Gregor Samsa\")`.\n",
    "\n",
    "-----"
   ]
  },
  {
   "cell_type": "markdown",
   "metadata": {},
   "source": [
    "Now lets looks at a variable, what does this code do?"
   ]
  },
  {
   "cell_type": "code",
   "execution_count": null,
   "metadata": {},
   "outputs": [],
   "source": [
    "a=0\n",
    "\n",
    "for i in range(10):\n",
    "    a+=i\n",
    "    \n",
    "print(a)"
   ]
  },
  {
   "cell_type": "markdown",
   "metadata": {},
   "source": [
    "We can reorganize this as function. This is useful if we are likely to use the same piece of code more than once."
   ]
  },
  {
   "cell_type": "code",
   "execution_count": null,
   "metadata": {},
   "outputs": [],
   "source": [
    "def sum_of_numbers(n):\n",
    "    a=0\n",
    "    for i in range(n):\n",
    "        a+=i\n",
    "    return a\n",
    "\n",
    "print(sum_of_numbers(10))\n",
    "print(sum_of_numbers(100000))"
   ]
  },
  {
   "cell_type": "markdown",
   "metadata": {},
   "source": [
    "In fact we have a formula for the sum of numbers:\n",
    "\n",
    "$1+2+\\ldots+n=\\sum_{i=1}^n i = \\frac{n(n-1)}{2}$"
   ]
  },
  {
   "cell_type": "code",
   "execution_count": null,
   "metadata": {},
   "outputs": [],
   "source": [
    "def sum_of_numbers(n):\n",
    "    a=0\n",
    "    for i in range(n):\n",
    "        a+=i\n",
    "    return a\n",
    "\n",
    "def sum_formula(n):\n",
    "    return n*(n-1)/2\n",
    "\n",
    "print(sum_of_numbers(10),\" \",sum_formula(10))\n",
    "print(sum_of_numbers(100000),\" \",sum_formula(100000))"
   ]
  },
  {
   "cell_type": "markdown",
   "metadata": {},
   "source": [
    "Notice that the function `sum_formula(n)` decides the number should be a real number, not an integer; while many programming languages require you to tell the computer what type of number to store in each variable, Python sort of guesses. "
   ]
  },
  {
   "cell_type": "markdown",
   "metadata": {},
   "source": [
    "There is also a formula for the sum of squares:\n",
    "$$\\sum_{i=1}^n i = \\frac{n}{n-1}{n-2}{6}$$\n",
    "Write a programme to check this for a few examples."
   ]
  },
  {
   "cell_type": "code",
   "execution_count": null,
   "metadata": {},
   "outputs": [],
   "source": [
    "def sum_of_squares(n):\n",
    "    #todo\n",
    "\n",
    "def sum_formula(n):\n",
    "    #todo\n",
    "\n",
    "print(sum_of_squares(10),\" \",sum_formula(10))\n",
    "print(sum_of_squares(100000),\" \",sum_formula(100000))"
   ]
  },
  {
   "cell_type": "markdown",
   "metadata": {},
   "source": [
    "-----"
   ]
  },
  {
   "cell_type": "markdown",
   "metadata": {},
   "source": [
    "We are now going to play with a package called turtle; it is a drawing programme and, while it has little to do with neurons or neural masses it is a nice, visual, way to practice programming."
   ]
  },
  {
   "cell_type": "code",
   "execution_count": 11,
   "metadata": {},
   "outputs": [],
   "source": [
    "import turtle\n",
    "\n",
    "my_turtle = turtle.Turtle()\n",
    "\n",
    "my_turtle.forward(100)\n",
    "\n",
    "turtle.done()"
   ]
  },
  {
   "cell_type": "markdown",
   "metadata": {},
   "source": [
    "The `turtle.done()` is needed to keep the turtle window open until it is closed by clicking, otherwise it will just disappear. There is a slightly subtle point with the dots, `turtle` is a library, a set of commands; if all possible commands were loaded into Python at once it would slow everything down so only core commands are loaded, a sort of default library often called _main_. A lot of what we do involves loading libraries, `numpy` is used for mathematical stuff, for example, or `pytorch` for machine learning. Every library has its own commands and coordinating between the folk looking after each library to make sure the commands don't clash would be impossible, so each library has a _namespace_, that is was the dot in `turtle.done()` is doing, it says, use the version of the command `done()` in the library called `turtle`. Now Python is an _object oriented_ language, roughly this means you can make objects, in this case `my_turtle = turtle.Turtle()` is making a `Turtle` objects; objects also have something have something like a namespace, in this case called _methods_ and so `my_turtle.forward(100)` says to go to the `Turtle` called `my_turtle` and use its command `forward`."
   ]
  },
  {
   "cell_type": "markdown",
   "metadata": {},
   "source": [
    "Here are some more methods: `left(90)`, `penup()` and `pendown()`. Draw a square and a dashed line with your turtle.\n"
   ]
  },
  {
   "cell_type": "code",
   "execution_count": 12,
   "metadata": {},
   "outputs": [],
   "source": [
    "#square\n",
    "import turtle\n",
    "\n",
    "#todo\n",
    "\n",
    "turtle.done()"
   ]
  },
  {
   "cell_type": "code",
   "execution_count": null,
   "metadata": {},
   "outputs": [],
   "source": [
    "#dashed line\n",
    "import turtle\n",
    "\n",
    "#todo\n",
    "\n",
    "turtle.done()"
   ]
  },
  {
   "cell_type": "markdown",
   "metadata": {},
   "source": [
    "If you didn't do it this way, make the square using a loop."
   ]
  },
  {
   "cell_type": "code",
   "execution_count": null,
   "metadata": {},
   "outputs": [],
   "source": [
    "#square\n",
    "import turtle\n",
    "\n",
    "for _ in range(4):\n",
    "    #todo\n",
    "\n",
    "turtle.done()"
   ]
  },
  {
   "cell_type": "markdown",
   "metadata": {},
   "source": [
    "------"
   ]
  },
  {
   "cell_type": "markdown",
   "metadata": {},
   "source": [
    "Here are a couple of examples."
   ]
  },
  {
   "cell_type": "code",
   "execution_count": null,
   "metadata": {},
   "outputs": [],
   "source": [
    "import turtle\n",
    "import random\n",
    "\n",
    "my_turtle = turtle.Turtle()\n",
    "my_turtle.speed(10)\n",
    "\n",
    "n = 50\n",
    "step=10\n",
    "\n",
    "for _ in range(n):\n",
    "    choice = random.choice([\"left\", \"right\", \"forward\"]) \n",
    "    print(choice,end=\" \")\n",
    "    \n",
    "    if choice == \"left\":\n",
    "        my_turtle.left(90) \n",
    "    elif choice == \"right\":\n",
    "        my_turtle.right(90) \n",
    "    else:  \n",
    "        my_turtle.forward(100)  \n",
    "          \n",
    "print(\"\\n\")\n",
    "\n",
    "turtle.done()"
   ]
  },
  {
   "cell_type": "code",
   "execution_count": null,
   "metadata": {},
   "outputs": [],
   "source": [
    "from turtle\n",
    "\n",
    "tom=turtle.Turtle()\n",
    "tom.speed(10)\n",
    "\n",
    "for i in range(0,30):\n",
    "    tom.forward(10+10*i)\n",
    "    tom.right(90)\n",
    "    \n",
    "turtle.done()"
   ]
  },
  {
   "cell_type": "markdown",
   "metadata": {},
   "source": [
    "If you'd like to look at more examples there is a worksheet at [worksheet.pdf](https://github.com/conorhoughton/teaching_misc/blob/master/python_workshop/worksheet.pdf)\n",
    "\n",
    "I also have a coding trail if you want to practice programming, it is at [choicetask.com/python](https://choicetask.com/python/)\n",
    "\n",
    "------------"
   ]
  },
  {
   "cell_type": "code",
   "execution_count": null,
   "metadata": {},
   "outputs": [],
   "source": []
  },
  {
   "cell_type": "markdown",
   "metadata": {
    "id": "ZBSINel0fcb-"
   },
   "source": [
    "Now lets learn how to plot things! In this code we will load the ploting library and plot the function \"v=sin(t)\". This uses two libraries, the first \"numpy\" contains lots of stuff that is useful for mathematics, for example, the definition of sine. Here the library is imported and given the short name \"np\". Next two objects are defined, `t` and `v`. `t` first: `np.linspace(0,10,1000)` makes a big list of times starting at 0 and ending at 10 with a 1000 points in between. For `v` it makes another big list it makes by taking each t value and applying sine to it.\n",
    "\n",
    "After that there is lots of plotting stuff, the basic command is plot that plots t against v, the rest does stuff like setting the size, 6 inches by 4 inches, absurdly matplotlib the plotting library uses inches."
   ]
  },
  {
   "cell_type": "markdown",
   "metadata": {},
   "source": []
  },
  {
   "cell_type": "code",
   "execution_count": null,
   "metadata": {
    "colab": {
     "base_uri": "https://localhost:8080/",
     "height": 388
    },
    "id": "JSaBj9SzfZK3",
    "outputId": "1b970dfb-7b72-45cd-bbf6-32a37be2103f"
   },
   "outputs": [],
   "source": [
    "import numpy as np\n",
    "import matplotlib.pyplot as plt\n",
    "\n",
    "# Define the time range from 0 to 10\n",
    "t = np.linspace(0, 10, 1000)\n",
    "\n",
    "# Define the function v = sin(t)\n",
    "v = np.sin(t)\n",
    "\n",
    "# Create the plot\n",
    "plt.figure(figsize=(6, 4))\n",
    "plt.plot(t, v, label='v = sin(t)')\n",
    "plt.xlabel('t')\n",
    "plt.ylabel('v')\n",
    "plt.legend()\n",
    "plt.grid(True)\n",
    "plt.show()"
   ]
  },
  {
   "cell_type": "markdown",
   "metadata": {
    "id": "CGDgjJWNil6G"
   },
   "source": [
    "Run this code and try making some changes; for example change sine to cosine and make it span 0 to 20 instead of 0 to 10.\n",
    "\n",
    "----"
   ]
  },
  {
   "cell_type": "markdown",
   "metadata": {
    "id": "cjFZ1PJBksHZ"
   },
   "source": [
    "Now lets do some numberical solving of the differential equation; in Python there are, of course, libraries for solving differential equations. When there are libraries available, you should try to use them, using a library usual results in faster and more efficient code and code which is easier for other people to use. However, here, we will solve the differential equation by implementing the Euler appoximation ourselves; this is for two reasons, the main one is educational, so you can see what is happening, the other is practical, the reset that will form part of the integrate and fire neuron, is complicated to implement using a library.\n",
    "\n",
    "----"
   ]
  },
  {
   "cell_type": "markdown",
   "metadata": {
    "id": "kvS42ZsGLWYe"
   },
   "source": [
    "Numerical integration means solving a differential equation approximately by advancing forwards in time in little steps, we are going to use _delta_ to refer to that little step in time, it is sort of traditional.\n",
    "\n",
    "The idea is simple, imagine you are on your bike at position _x_ and going at speed _v_, in a little time step delta your position will be approximately _x+delta v_, you will have travelled _delta * v_  in the time _delta_. It is approximately since it leaves out any accelleration, _v_ might be changing.\n",
    "\n",
    "Now the idea is to keep approximating your position this way, this approx is called the Euler approximation, after the mathematician Euler who did many important things and has a lot of mathematical things named after him. There are other, more accurate, approaches to numerical integration, but Euler integration is the simplest.\n",
    "____"
   ]
  },
  {
   "cell_type": "markdown",
   "metadata": {
    "id": "mNAuyRiTMvfA"
   },
   "source": [
    "Lets look at doing numerical integation for the differential equation \n",
    "$$\\frac{df}{dt}=-f$$\n",
    "Say at some starting time, which we take to be $t=0$ for convenience, we know the value of $f$, it is $f(0)$, now in the _Euler approximation_ we guess\n",
    "$$f(\\delta)=f(0)+\\frac{df}{dt}\\delta=(1-\\delta) f(0)$$\n",
    "and\n",
    "$$f(2\\delta)=f(\\delta)+\\frac{df}{dt}\\delta= f(\\delta)-\\delta f(\\delta)$$\n",
    "and we can substitute for $f(\\delta)$ from the previous approximation. This goes around and around, the important point is that you can work out each new value from the previous one. This would obviously get very tedious by hand but it's easy enough using a computer."
   ]
  },
  {
   "cell_type": "markdown",
   "metadata": {
    "id": "w-lAPguIleBp"
   },
   "source": [
    "This code integrates the equation *df/dt = -f* for different values of *f*. Thing carefully about what the loop is doing! `f[t_index]` gives the `t_index`th entry in the list `f`, where zero is the first entry, this would correspond to the value of the function after `t_index` time steps, that is the value of the function at `t_index`_*delta_. The loop doesn't do anything to the first entry but all the other ones it replaces using the formula `f[t_index]=f[t_index-1]+delta*dfdt(f[t_index-1])` which corresponds to the Euler approximation."
   ]
  },
  {
   "cell_type": "code",
   "execution_count": null,
   "metadata": {
    "colab": {
     "base_uri": "https://localhost:8080/",
     "height": 388
    },
    "id": "v_dQ0LLqlqQv",
    "outputId": "8d93ccde-c725-4f1f-ece7-9b6432d410d1"
   },
   "outputs": [],
   "source": [
    "def dfdt(f):\n",
    "  return -f\n",
    "\n",
    "t_start=0.0\n",
    "t_end=10.0\n",
    "n_points=1000\n",
    "delta=(t_end-t_start)/n_points\n",
    "\n",
    "t=np.linspace(t_start,t_end,n_points)\n",
    "f0 = 1.5\n",
    "f = np.full_like(t, f0)\n",
    "\n",
    "for t_index in range(1,n_points):\n",
    "  f[t_index]=f[t_index-1]+delta*dfdt(f[t_index-1])\n",
    "\n",
    "plt.figure(figsize=(6, 4))\n",
    "plt.plot(t, f)\n",
    "plt.xlabel('t')\n",
    "plt.ylabel('f')\n",
    "plt.grid(True)\n",
    "plt.show()\n",
    "\n"
   ]
  },
  {
   "cell_type": "markdown",
   "metadata": {
    "id": "3qv7tL1a2asY"
   },
   "source": [
    "The `f = np.full_like(t, f0)` just makes a list the same size as the `t` list but with the value `f0` for each entry.\n",
    "____"
   ]
  },
  {
   "cell_type": "markdown",
   "metadata": {
    "id": "BO3zozN9ORf8"
   },
   "source": [
    "In fact it is possible to write down the solution to $df/dt=-f$, it is\n",
    "$$f=f(0)e^{-t}$$\n",
    "this is the exponential, a well known mathematical function, in this code we compare the Euler approximation to the true function, in fact, the approximation is too good for $df/dt=-f$ for the error to be visible, so we look at \n",
    "$$df/dt=f$$ \n",
    "instead, this has\n",
    "$$\n",
    "f=f(0)e^t\n",
    "$$\n",
    "as solution, this function gets bigger and bigger, making the errors more obvious. The number of points has been decreased, making delta bigger, you can experiment with changing this; the number of points getting smaller is again designed to make the approximation worse."
   ]
  },
  {
   "cell_type": "code",
   "execution_count": null,
   "metadata": {
    "colab": {
     "base_uri": "https://localhost:8080/",
     "height": 388
    },
    "id": "JSFI1d_7OvZN",
    "outputId": "147d7ebd-7431-4e11-d9ae-0ddef355d1e4"
   },
   "outputs": [],
   "source": [
    "def dfdt(f):\n",
    "  return f\n",
    "\n",
    "t_start=0.0\n",
    "t_end=10.0\n",
    "n_points=200\n",
    "delta=(t_end-t_start)/n_points\n",
    "\n",
    "t=np.linspace(t_start,t_end,n_points)\n",
    "f0 = 1.5\n",
    "f_approx = np.full_like(t, f0)\n",
    "f_true=np.full_like(t,f0)\n",
    "\n",
    "for t_index in range(1,n_points):\n",
    "  f_approx[t_index]=f_approx[t_index-1]+delta*dfdt(f_approx[t_index-1])\n",
    "  f_true[t_index]=f_true[0]*np.exp(t_index*delta)\n",
    "\n",
    "plt.figure(figsize=(6, 4))\n",
    "plt.plot(t, f_approx,label=\"approx\")\n",
    "plt.plot(t, f_true,label=\"true\")\n",
    "plt.xlabel('t')\n",
    "plt.ylabel('f')\n",
    "plt.legend()\n",
    "plt.grid(True)\n",
    "plt.show()"
   ]
  },
  {
   "cell_type": "markdown",
   "metadata": {
    "id": "6MLqPn1OnsHQ"
   },
   "source": [
    "_____\n",
    "\n",
    "Next going back to the code without the exact solution, change it so that the differential equation is \n",
    "$$\\frac{df}{dt} = 10-f$$"
   ]
  },
  {
   "cell_type": "code",
   "execution_count": null,
   "metadata": {
    "colab": {
     "base_uri": "https://localhost:8080/",
     "height": 247
    },
    "id": "DoGYBoo6n5Ri",
    "outputId": "908183d7-e42a-4301-b67e-378e20789e42"
   },
   "outputs": [],
   "source": [
    "def dfdt(f):\n",
    "  ### add your code here ###\n",
    "  return ##some value###\n",
    "\n",
    "t_start=0.0\n",
    "t_end=10.0\n",
    "n_points=1000\n",
    "delta=(t_end-t_start)/n_points\n",
    "\n",
    "t=np.linspace(t_start,t_end,n_points)\n",
    "f0 = 1.5\n",
    "f = np.full_like(t, f0)\n",
    "\n",
    "for t_index in range(1,n_points):\n",
    "  f[t_index]=f[t_index-1]+delta*dfdt(f[t_index-1])\n",
    "\n",
    "plt.figure(figsize=(6, 4))\n",
    "plt.plot(t, f)\n",
    "plt.xlabel('t')\n",
    "plt.ylabel('f')\n",
    "plt.grid(True)\n",
    "plt.show()"
   ]
  },
  {
   "cell_type": "markdown",
   "metadata": {},
   "source": [
    "How about\n",
    "$$\\tau\\frac{df}{dt}=-f+\\sin{t}$$\n",
    "With $\\tau=2$. Experiment with different values of $\\tau$."
   ]
  },
  {
   "cell_type": "code",
   "execution_count": null,
   "metadata": {},
   "outputs": [],
   "source": [
    "def dfdt(f):\n",
    "  ### add your code here ###\n",
    "  return ##some value###\n",
    "\n",
    "t_start=0.0\n",
    "t_end=10.0\n",
    "n_points=1000\n",
    "delta=(t_end-t_start)/n_points\n",
    "\n",
    "t=np.linspace(t_start,t_end,n_points)\n",
    "f0 = 1.5\n",
    "f = np.full_like(t, f0)\n",
    "\n",
    "for t_index in range(1,n_points):\n",
    "  f[t_index]=f[t_index-1]+delta*dfdt(f[t_index-1])\n",
    "\n",
    "plt.figure(figsize=(6, 4))\n",
    "plt.plot(t, f)\n",
    "plt.xlabel('t')\n",
    "plt.ylabel('f')\n",
    "plt.grid(True)\n",
    "plt.show()"
   ]
  }
 ],
 "metadata": {
  "colab": {
   "provenance": []
  },
  "kernelspec": {
   "display_name": "Python 3 (ipykernel)",
   "language": "python",
   "name": "python3"
  },
  "language_info": {
   "codemirror_mode": {
    "name": "ipython",
    "version": 3
   },
   "file_extension": ".py",
   "mimetype": "text/x-python",
   "name": "python",
   "nbconvert_exporter": "python",
   "pygments_lexer": "ipython3",
   "version": "3.10.12"
  }
 },
 "nbformat": 4,
 "nbformat_minor": 1
}
